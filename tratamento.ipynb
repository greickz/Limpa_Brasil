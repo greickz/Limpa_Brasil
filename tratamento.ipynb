{
 "cells": [
  {
   "cell_type": "code",
   "execution_count": 1,
   "metadata": {},
   "outputs": [],
   "source": [
    "import pandas as pd\n",
    "# df1 = pd.read_excel(\"raspagem_limpa_brasil_SP_rev.01.xlsx\")\n",
    "# df2 = pd.read_excel(\"raspagem_limpa_brasil_teste.xlsx\")\n",
    "# df = pd.concat([df1, df2], ignore_index=True)"
   ]
  },
  {
   "cell_type": "code",
   "execution_count": 19,
   "metadata": {},
   "outputs": [],
   "source": [
    "df_base = pd.read_excel(\"raspagem_limpa_brasil_SP_rev.01.xlsx\")\n",
    "df_campanha = pd.read_excel(\"raspagem_limpa_brasil_teste.xlsx\")\n",
    "df_base['Campanha'] = df_campanha['Campanha']\n",
    "df_sp = df_base[df_base['Cidade e Estado'].str.contains(\"São Paulo\", case=False, na=False)].copy()\n",
    "df_sp['Cidade e Estado'] = df_sp['Cidade e Estado'].str.replace(r'São Paulo\\s*/\\s*', '', regex=True).str.strip()\n",
    "palavras_chave = ['Mutirão', 'MUTIRÃO', 'Multirão', 'mutirão', 'Limpeza', 'LIMPEZA', 'limpeza']\n",
    "def separacao(titulo):\n",
    "    if not isinstance(titulo, str):\n",
    "        return False\n",
    "    return any(palavra in titulo.split(\" \") for palavra in palavras_chave)\n",
    "df_sp['É Mutirão'] = df_sp['Título'].apply(separacao)\n",
    "df_mutirao = df_sp[df_sp['É Mutirão']].copy()\n",
    "df_eventos = df_sp[~df_sp['É Mutirão']].copy()\n",
    "df_mutirao['Origem Base Dados'] = 'BD_Raspagem'\n",
    "df_mutirao['Campanha'] = df_mutirao['Campanha'].fillna('').str.title()\n",
    "df_mutirao['Título'] = df_mutirao['Título'].str.title()\n",
    "df_mutirao['Tipo Campanha'] = 'Mutirão'\n",
    "df_eventos['Origem Base Dados'] = 'BD_Raspagem'\n",
    "df_eventos['Campanha'] = df_eventos['Campanha'].fillna('').str.title()\n",
    "df_eventos['Título'] = df_eventos['Título'].str.title()\n",
    "df_eventos['Tipo Campanha'] = 'Educação'\n",
    "ordem_coluna = ['Data e Hora', 'Cidade e Estado', 'Campanha', 'Título', 'Tipo Campanha', 'Origem Base Dados']\n",
    "df_mutirao = df_mutirao[ordem_coluna]\n",
    "df_eventos = df_eventos[ordem_coluna]\n",
    "def converter_data_br(df, nome_coluna):\n",
    "    df['Data Original'] = df[nome_coluna]\n",
    "    df[nome_coluna] = pd.to_datetime(df[nome_coluna], format='%d/%m/%Y %H:%M', errors='coerce')\n",
    "    if df[nome_coluna].isna().any():\n",
    "        df[nome_coluna] = pd.to_datetime(df['Data Original'], errors='coerce')\n",
    "    erros = df[df[nome_coluna].isna() & df['Data Original'].notna()]\n",
    "    if not erros.empty:\n",
    "        print(\"Datas com erro de conversão:\")\n",
    "        print(erros[['Data Original', 'Título']])\n",
    "    df[nome_coluna] = df[nome_coluna].dt.strftime('%d/%m/%Y')\n",
    "    df.drop(columns=['Data Original'], inplace=True)\n",
    "converter_data_br(df_mutirao, 'Data e Hora')\n",
    "converter_data_br(df_eventos, 'Data e Hora')\n",
    "df_mutirao.to_excel('planilha_mutirao.xlsx', index=False)\n",
    "df_eventos.to_excel('planilha_educacao.xlsx', index=False)"
   ]
  }
 ],
 "metadata": {
  "kernelspec": {
   "display_name": "Python 3",
   "language": "python",
   "name": "python3"
  },
  "language_info": {
   "codemirror_mode": {
    "name": "ipython",
    "version": 3
   },
   "file_extension": ".py",
   "mimetype": "text/x-python",
   "name": "python",
   "nbconvert_exporter": "python",
   "pygments_lexer": "ipython3",
   "version": "3.12.1"
  }
 },
 "nbformat": 4,
 "nbformat_minor": 2
}
