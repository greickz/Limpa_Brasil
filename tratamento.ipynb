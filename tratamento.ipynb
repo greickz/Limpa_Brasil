{
 "cells": [
  {
   "cell_type": "code",
   "execution_count": 12,
   "metadata": {},
   "outputs": [],
   "source": [
    "import pandas as pd\n",
    "df = pd.read_excel(\"raspagem_limpa_brasil.xlsx\")"
   ]
  },
  {
   "cell_type": "code",
   "execution_count": 37,
   "metadata": {},
   "outputs": [],
   "source": [
    "df_sp = df[df['Cidade e Estado'].str.contains(\"São Paulo\", case=False, na=False)]\n",
    "palavras_chave = ['Mutirão', 'MUTIRÃO', 'Multirão', 'mutirão', 'Limpeza', 'LIMPEZA', 'limpeza']\n",
    "def separacao(linha):\n",
    "    if not isinstance(linha, str):\n",
    "        return False\n",
    "    for item in palavras_chave:\n",
    "        if item in linha.split(\" \"):\n",
    "            return True\n",
    "    return False\n",
    "df_com_palavras_chave = df_sp[df_sp['Título'].apply(separacao)]\n",
    "df_sem_palavras_chave = df_sp[~df_sp['Título'].apply(separacao)]\n",
    "df_com_palavras_chave.to_excel('raspagem_com_mutirao_limpeza.xlsx', index=False)\n",
    "df_sem_palavras_chave.to_excel('raspagem_sem_mutirao_limpeza.xlsx', index=False)\n"
   ]
  }
 ],
 "metadata": {
  "kernelspec": {
   "display_name": "Python 3",
   "language": "python",
   "name": "python3"
  },
  "language_info": {
   "codemirror_mode": {
    "name": "ipython",
    "version": 3
   },
   "file_extension": ".py",
   "mimetype": "text/x-python",
   "name": "python",
   "nbconvert_exporter": "python",
   "pygments_lexer": "ipython3",
   "version": "3.12.1"
  }
 },
 "nbformat": 4,
 "nbformat_minor": 2
}
